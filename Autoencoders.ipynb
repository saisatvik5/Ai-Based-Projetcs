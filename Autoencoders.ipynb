{
  "nbformat": 4,
  "nbformat_minor": 0,
  "metadata": {
    "colab": {
      "name": "Autoencoders.ipynb",
      "provenance": [],
      "collapsed_sections": [],
      "include_colab_link": true
    },
    "kernelspec": {
      "name": "python3",
      "display_name": "Python 3"
    },
    "language_info": {
      "name": "python"
    },
    "accelerator": "GPU"
  },
  "cells": [
    {
      "cell_type": "markdown",
      "metadata": {
        "id": "view-in-github",
        "colab_type": "text"
      },
      "source": [
        "<a href=\"https://colab.research.google.com/github/saisatvik5/Ai-Based-Projetcs/blob/main/Autoencoders.ipynb\" target=\"_parent\"><img src=\"https://colab.research.google.com/assets/colab-badge.svg\" alt=\"Open In Colab\"/></a>"
      ]
    },
    {
      "cell_type": "markdown",
      "metadata": {
        "id": "gY9Kw2_0t8JW"
      },
      "source": [
        "https://pythonprogramming.net/autoencoders-tutorial/"
      ]
    },
    {
      "cell_type": "code",
      "metadata": {
        "id": "pgFOfOtjHWF-"
      },
      "source": [
        "import matplotlib.pyplot as plt\n",
        "import tensorflow as tf\n",
        "from keras import Input\n",
        "from tensorflow.keras.layers import Dense, Flatten, Reshape \n",
        "from tensorflow.keras import Sequential, Model"
      ],
      "execution_count": null,
      "outputs": []
    },
    {
      "cell_type": "code",
      "metadata": {
        "id": "-NtFcUXcrhAs"
      },
      "source": [
        "(x_train, _), (x_test, _) = tf.keras.datasets.mnist.load_data()"
      ],
      "execution_count": null,
      "outputs": []
    },
    {
      "cell_type": "code",
      "metadata": {
        "id": "nUdyljGdywYB"
      },
      "source": [
        "x_train = x_train / 255.\n",
        "x_test = x_test / 255. "
      ],
      "execution_count": null,
      "outputs": []
    },
    {
      "cell_type": "code",
      "metadata": {
        "colab": {
          "base_uri": "https://localhost:8080/"
        },
        "id": "nFq-5bfC0POE",
        "outputId": "448b6b7c-54c2-4b3d-f783-0894a70af8ef"
      },
      "source": [
        "x_train.shape, x_test[0].shape"
      ],
      "execution_count": null,
      "outputs": [
        {
          "output_type": "execute_result",
          "data": {
            "text/plain": [
              "((60000, 28, 28), (28, 28))"
            ]
          },
          "metadata": {
            "tags": []
          },
          "execution_count": 30
        }
      ]
    },
    {
      "cell_type": "code",
      "metadata": {
        "colab": {
          "base_uri": "https://localhost:8080/"
        },
        "id": "vMrZUe82rhMe",
        "outputId": "8d05b303-23a6-43fe-e735-db4fcbaa65ba"
      },
      "source": [
        "# defining encoder \n",
        "e_input = Input((28,28,1), name='encoder_img')\n",
        "x = Flatten()(e_input)\n",
        "e_output = Dense(64, activation='relu')(x)\n",
        "encoder = Model(e_input, e_output, name=\"Encoder\")\n",
        "encoder.summary() "
      ],
      "execution_count": null,
      "outputs": [
        {
          "output_type": "stream",
          "text": [
            "Model: \"Encoder\"\n",
            "_________________________________________________________________\n",
            "Layer (type)                 Output Shape              Param #   \n",
            "=================================================================\n",
            "encoder_img (InputLayer)     [(None, 28, 28, 1)]       0         \n",
            "_________________________________________________________________\n",
            "flatten (Flatten)            (None, 784)               0         \n",
            "_________________________________________________________________\n",
            "dense (Dense)                (None, 64)                50240     \n",
            "=================================================================\n",
            "Total params: 50,240\n",
            "Trainable params: 50,240\n",
            "Non-trainable params: 0\n",
            "_________________________________________________________________\n"
          ],
          "name": "stdout"
        }
      ]
    },
    {
      "cell_type": "code",
      "metadata": {
        "colab": {
          "base_uri": "https://localhost:8080/"
        },
        "id": "sDz56nMlrhRq",
        "outputId": "c3a6fac5-91f8-4dd7-e0c5-3d80e29ec911"
      },
      "source": [
        "# defininig decoder and connecting it to encoder (encoder-decoder)\n",
        "x = Dense(784, activation='relu')(e_output)\n",
        "d_output = Reshape((28,28,1))(x)\n",
        "\n",
        "autoencoder = Model(e_input, d_output, name=\"Decoder\")\n",
        "autoencoder.summary()"
      ],
      "execution_count": null,
      "outputs": [
        {
          "output_type": "stream",
          "text": [
            "Model: \"Decoder\"\n",
            "_________________________________________________________________\n",
            "Layer (type)                 Output Shape              Param #   \n",
            "=================================================================\n",
            "encoder_img (InputLayer)     [(None, 28, 28, 1)]       0         \n",
            "_________________________________________________________________\n",
            "flatten (Flatten)            (None, 784)               0         \n",
            "_________________________________________________________________\n",
            "dense (Dense)                (None, 64)                50240     \n",
            "_________________________________________________________________\n",
            "dense_3 (Dense)              (None, 784)               50960     \n",
            "_________________________________________________________________\n",
            "reshape_1 (Reshape)          (None, 28, 28, 1)         0         \n",
            "=================================================================\n",
            "Total params: 101,200\n",
            "Trainable params: 101,200\n",
            "Non-trainable params: 0\n",
            "_________________________________________________________________\n"
          ],
          "name": "stdout"
        }
      ]
    },
    {
      "cell_type": "code",
      "metadata": {
        "colab": {
          "base_uri": "https://localhost:8080/"
        },
        "id": "Z5RAz4VkrhVY",
        "outputId": "1271d0fc-abda-4911-d412-3a9224657945"
      },
      "source": [
        "autoencoder.compile(optimizer='adam', loss='mse', metrics=['accuracy'])\n",
        "autoencoder.fit(x_train, x_train, epochs=3)"
      ],
      "execution_count": null,
      "outputs": [
        {
          "output_type": "stream",
          "text": [
            "Epoch 1/3\n",
            "1875/1875 [==============================] - 4s 2ms/step - loss: 0.0167 - accuracy: 0.8147\n",
            "Epoch 2/3\n",
            "1875/1875 [==============================] - 4s 2ms/step - loss: 0.0165 - accuracy: 0.8146\n",
            "Epoch 3/3\n",
            "1875/1875 [==============================] - 4s 2ms/step - loss: 0.0165 - accuracy: 0.8145\n"
          ],
          "name": "stdout"
        },
        {
          "output_type": "execute_result",
          "data": {
            "text/plain": [
              "<tensorflow.python.keras.callbacks.History at 0x7f63e8047410>"
            ]
          },
          "metadata": {
            "tags": []
          },
          "execution_count": 33
        }
      ]
    },
    {
      "cell_type": "code",
      "metadata": {
        "colab": {
          "base_uri": "https://localhost:8080/",
          "height": 282
        },
        "id": "dFsmkRQa3gJh",
        "outputId": "72c0bdd1-c1d7-411d-8c55-caa0da863b2e"
      },
      "source": [
        "plt.imshow(x_test[0], cmap='gray')"
      ],
      "execution_count": null,
      "outputs": [
        {
          "output_type": "execute_result",
          "data": {
            "text/plain": [
              "<matplotlib.image.AxesImage at 0x7f63e5ed48d0>"
            ]
          },
          "metadata": {
            "tags": []
          },
          "execution_count": 34
        },
        {
          "output_type": "display_data",
          "data": {
            "image/png": "[encoded data removed]",
            "text/plain": [
              "<Figure size 432x288 with 1 Axes>"
            ]
          },
          "metadata": {
            "tags": [],
            "needs_background": "light"
          }
        }
      ]
    },
    {
      "cell_type": "code",
      "metadata": {
        "colab": {
          "base_uri": "https://localhost:8080/",
          "height": 282
        },
        "id": "NsHmJGiKzjb-",
        "outputId": "79d21201-2862-482d-85f1-25db8e73c870"
      },
      "source": [
        "# encoder.compile(optimizer='adam', loss='mse', metrics=['accuracy'])\n",
        "pred = encoder.predict([x_test[0].reshape(-1,28,28,1)])\n",
        "plt.imshow(pred.reshape(8,8), cmap='gray')"
      ],
      "execution_count": null,
      "outputs": [
        {
          "output_type": "execute_result",
          "data": {
            "text/plain": [
              "<matplotlib.image.AxesImage at 0x7f63e5e5dd10>"
            ]
          },
          "metadata": {
            "tags": []
          },
          "execution_count": 35
        },
        {
          "output_type": "display_data",
          "data": {
            "image/png": "[encoded data removed]",
            "text/plain": [
              "<Figure size 432x288 with 1 Axes>"
            ]
          },
          "metadata": {
            "tags": [],
            "needs_background": "light"
          }
        }
      ]
    },
    {
      "cell_type": "code",
      "metadata": {
        "colab": {
          "base_uri": "https://localhost:8080/",
          "height": 282
        },
        "id": "A6Zr7LQczf9e",
        "outputId": "8e6b6a10-9e21-4660-f7d1-f564c6a25d52"
      },
      "source": [
        "pred_ = autoencoder.predict([x_test[0].reshape(-1,28,28,1)])\n",
        "plt.imshow(pred_[0].reshape(28,28), cmap='gray')"
      ],
      "execution_count": null,
      "outputs": [
        {
          "output_type": "execute_result",
          "data": {
            "text/plain": [
              "<matplotlib.image.AxesImage at 0x7f63e55e2790>"
            ]
          },
          "metadata": {
            "tags": []
          },
          "execution_count": 36
        },
        {
          "output_type": "display_data",
          "data": {
            "image/png": "[encoded data removed]",
            "text/plain": [
              "<Figure size 432x288 with 1 Axes>"
            ]
          },
          "metadata": {
            "tags": [],
            "needs_background": "light"
          }
        }
      ]
    },
    {
      "cell_type": "code",
      "metadata": {
        "colab": {
          "base_uri": "https://localhost:8080/"
        },
        "id": "E7riJ1IazDd2",
        "outputId": "c7077fbe-e0ae-4838-8ade-9bbd6b293b12"
      },
      "source": [
        "from skimage.measure import compare_ssim\n",
        "score,_ = compare_ssim(x_test[0], pred_.reshape(28,28), full=True)\n",
        "print(score)"
      ],
      "execution_count": null,
      "outputs": [
        {
          "output_type": "stream",
          "text": [
            "0.8896908484437483\n"
          ],
          "name": "stdout"
        },
        {
          "output_type": "stream",
          "text": [
            "/usr/local/lib/python3.7/dist-packages/ipykernel_launcher.py:2: UserWarning: DEPRECATED: skimage.measure.compare_ssim has been moved to skimage.metrics.structural_similarity. It will be removed from skimage.measure in version 0.18.\n",
            "  \n",
            "/usr/local/lib/python3.7/dist-packages/skimage/measure/_structural_similarity.py:17: UserWarning: Inputs have mismatched dtype.  Setting data_range based on im1.dtype.\n",
            "  **kwargs)\n"
          ],
          "name": "stderr"
        }
      ]
    },
    {
      "cell_type": "code",
      "metadata": {
        "id": "sD8fgtGNzDgs"
      },
      "source": [
        ""
      ],
      "execution_count": null,
      "outputs": []
    },
    {
      "cell_type": "markdown",
      "metadata": {
        "id": "2HsKJ5Kp483l"
      },
      "source": [
        "Adding convolutions and pooling layer in it"
      ]
    },
    {
      "cell_type": "code",
      "metadata": {
        "colab": {
          "base_uri": "https://localhost:8080/"
        },
        "id": "CYLTJgkezDkY",
        "outputId": "b8a051be-6c38-4e02-df38-7c52f4fb33aa"
      },
      "source": [
        "# defining encoder \n",
        "e_input = Input((28,28,1), name='encoder_img')\n",
        "x = tf.keras.layers.Conv2D(16, 2, padding='same', activation='relu')(e_input)\n",
        "x = tf.keras.layers.MaxPooling2D((2, 2), padding='same')(x)\n",
        "x = tf.keras.layers.Conv2D(16, 2, padding='same', activation='relu')(x)\n",
        "x = tf.keras.layers.MaxPooling2D((2, 2), padding='same')(x)\n",
        "x = Flatten()(x)\n",
        "e_output = Dense(64, activation='relu')(x)\n",
        "encoder = Model(e_input, e_output, name=\"Encoder\")\n",
        "\n",
        "# defininig decoder and connecting it to encoder (encoder-decoder)\n",
        "x = Dense(64, activation='relu')(e_output)\n",
        "x = Dense(784, activation='relu')(x)\n",
        "x = Reshape((28,28,1))(x)\n",
        "x = tf.keras.layers.Conv2D(16, 2, padding='same', activation='relu')(x)\n",
        "x = tf.keras.layers.MaxPooling2D((2, 2), padding='same')(x)\n",
        "x = tf.keras.layers.Conv2D(16, 2, padding='same', activation='relu')(x)\n",
        "x = tf.keras.layers.UpSampling2D((2,2))(x)\n",
        "d_output = tf.keras.layers.Conv2DTranspose(1, 2, padding='same', activation='sigmoid')(x)\n",
        "autoencoder = Model(e_input, d_output, name=\"autoencoder\")\n",
        "autoencoder.summary()\n",
        "\n",
        "autoencoder.compile(optimizer='adam', loss='mse', metrics=['accuracy'])\n",
        "autoencoder.fit(x_train, x_train, epochs=3)"
      ],
      "execution_count": null,
      "outputs": [
        {
          "output_type": "stream",
          "text": [
            "Model: \"autoencoder\"\n",
            "_________________________________________________________________\n",
            "Layer (type)                 Output Shape              Param #   \n",
            "=================================================================\n",
            "encoder_img (InputLayer)     [(None, 28, 28, 1)]       0         \n",
            "_________________________________________________________________\n",
            "conv2d_17 (Conv2D)           (None, 28, 28, 16)        80        \n",
            "_________________________________________________________________\n",
            "max_pooling2d_10 (MaxPooling (None, 14, 14, 16)        0         \n",
            "_________________________________________________________________\n",
            "conv2d_18 (Conv2D)           (None, 14, 14, 16)        1040      \n",
            "_________________________________________________________________\n",
            "max_pooling2d_11 (MaxPooling (None, 7, 7, 16)          0         \n",
            "_________________________________________________________________\n",
            "flatten_7 (Flatten)          (None, 784)               0         \n",
            "_________________________________________________________________\n",
            "dense_21 (Dense)             (None, 64)                50240     \n",
            "_________________________________________________________________\n",
            "dense_22 (Dense)             (None, 64)                4160      \n",
            "_________________________________________________________________\n",
            "dense_23 (Dense)             (None, 784)               50960     \n",
            "_________________________________________________________________\n",
            "reshape_8 (Reshape)          (None, 28, 28, 1)         0         \n",
            "_________________________________________________________________\n",
            "conv2d_19 (Conv2D)           (None, 28, 28, 16)        80        \n",
            "_________________________________________________________________\n",
            "conv2d_transpose_6 (Conv2DTr (None, 28, 28, 1)         65        \n",
            "=================================================================\n",
            "Total params: 106,625\n",
            "Trainable params: 106,625\n",
            "Non-trainable params: 0\n",
            "_________________________________________________________________\n",
            "Epoch 1/3\n",
            "1875/1875 [==============================] - 40s 7ms/step - loss: 0.0625 - accuracy: 0.8002\n",
            "Epoch 2/3\n",
            "1875/1875 [==============================] - 12s 6ms/step - loss: 0.0219 - accuracy: 0.8071\n",
            "Epoch 3/3\n",
            "1875/1875 [==============================] - 12s 6ms/step - loss: 0.0149 - accuracy: 0.8111\n"
          ],
          "name": "stdout"
        },
        {
          "output_type": "execute_result",
          "data": {
            "text/plain": [
              "<tensorflow.python.keras.callbacks.History at 0x7f63e469ea50>"
            ]
          },
          "metadata": {
            "tags": []
          },
          "execution_count": 46
        }
      ]
    },
    {
      "cell_type": "code",
      "metadata": {
        "colab": {
          "base_uri": "https://localhost:8080/"
        },
        "id": "G9s6tcnf_sRj",
        "outputId": "6e79a505-4c11-4841-d434-33d26aebc585"
      },
      "source": [
        "## adding some more layers \n",
        "# defining encoder \n",
        "e_input = Input((28,28,1), name='encoder_img')\n",
        "x = tf.keras.layers.Conv2D(16, 2, padding='same', activation='relu')(e_input)\n",
        "x = tf.keras.layers.MaxPooling2D((2, 2), padding='same')(x)\n",
        "x = tf.keras.layers.Conv2D(16, 2, padding='same', activation='relu')(x)\n",
        "x = tf.keras.layers.MaxPooling2D((2, 2), padding='same')(x)\n",
        "x = Flatten()(x)\n",
        "e_output = Dense(64, activation='relu')(x)\n",
        "encoder = Model(e_input, e_output, name=\"Encoder\")\n",
        "\n",
        "# defininig decoder and connecting it to encoder (encoder-decoder)\n",
        "x = Dense(64, activation='relu')(e_output)\n",
        "x = Dense(784, activation='relu')(x)\n",
        "x = Reshape((28,28,1))(x)\n",
        "x = tf.keras.layers.Conv2D(16, 2, padding='same', activation='relu')(x)\n",
        "x = tf.keras.layers.MaxPooling2D((2, 2), padding='same')(x)\n",
        "x = tf.keras.layers.Conv2D(16, 2, padding='same', activation='relu')(x)\n",
        "x = tf.keras.layers.UpSampling2D((2,2))(x)\n",
        "d_output = tf.keras.layers.Conv2DTranspose(1, 2, padding='same', activation='sigmoid')(x)\n",
        "autoencoder = Model(e_input, d_output, name=\"autoencoder\")\n",
        "autoencoder.summary()\n",
        "\n",
        "autoencoder.compile(optimizer='adam', loss='mse', metrics=['accuracy'])\n",
        "autoencoder.fit(x_train, x_train, epochs=3)"
      ],
      "execution_count": null,
      "outputs": [
        {
          "output_type": "stream",
          "text": [
            "Model: \"autoencoder\"\n",
            "_________________________________________________________________\n",
            "Layer (type)                 Output Shape              Param #   \n",
            "=================================================================\n",
            "encoder_img (InputLayer)     [(None, 28, 28, 1)]       0         \n",
            "_________________________________________________________________\n",
            "conv2d_20 (Conv2D)           (None, 28, 28, 16)        80        \n",
            "_________________________________________________________________\n",
            "max_pooling2d_12 (MaxPooling (None, 14, 14, 16)        0         \n",
            "_________________________________________________________________\n",
            "conv2d_21 (Conv2D)           (None, 14, 14, 16)        1040      \n",
            "_________________________________________________________________\n",
            "max_pooling2d_13 (MaxPooling (None, 7, 7, 16)          0         \n",
            "_________________________________________________________________\n",
            "flatten_8 (Flatten)          (None, 784)               0         \n",
            "_________________________________________________________________\n",
            "dense_24 (Dense)             (None, 64)                50240     \n",
            "_________________________________________________________________\n",
            "dense_25 (Dense)             (None, 64)                4160      \n",
            "_________________________________________________________________\n",
            "dense_26 (Dense)             (None, 784)               50960     \n",
            "_________________________________________________________________\n",
            "reshape_9 (Reshape)          (None, 28, 28, 1)         0         \n",
            "_________________________________________________________________\n",
            "conv2d_22 (Conv2D)           (None, 28, 28, 16)        80        \n",
            "_________________________________________________________________\n",
            "max_pooling2d_14 (MaxPooling (None, 14, 14, 16)        0         \n",
            "_________________________________________________________________\n",
            "conv2d_23 (Conv2D)           (None, 14, 14, 16)        1040      \n",
            "_________________________________________________________________\n",
            "up_sampling2d_1 (UpSampling2 (None, 28, 28, 16)        0         \n",
            "_________________________________________________________________\n",
            "conv2d_transpose_7 (Conv2DTr (None, 28, 28, 1)         65        \n",
            "=================================================================\n",
            "Total params: 107,665\n",
            "Trainable params: 107,665\n",
            "Non-trainable params: 0\n",
            "_________________________________________________________________\n",
            "Epoch 1/3\n",
            "1875/1875 [==============================] - 14s 7ms/step - loss: 0.0546 - accuracy: 0.8054\n",
            "Epoch 2/3\n",
            "1875/1875 [==============================] - 13s 7ms/step - loss: 0.0132 - accuracy: 0.8121\n",
            "Epoch 3/3\n",
            "1875/1875 [==============================] - 13s 7ms/step - loss: 0.0097 - accuracy: 0.8137\n"
          ],
          "name": "stdout"
        },
        {
          "output_type": "execute_result",
          "data": {
            "text/plain": [
              "<tensorflow.python.keras.callbacks.History at 0x7f637f62f510>"
            ]
          },
          "metadata": {
            "tags": []
          },
          "execution_count": 52
        }
      ]
    },
    {
      "cell_type": "code",
      "metadata": {
        "colab": {
          "base_uri": "https://localhost:8080/",
          "height": 265
        },
        "id": "eJXmSQke_PRN",
        "outputId": "4b29d7a4-4fbf-4348-89ed-2b96f8ea9a7c"
      },
      "source": [
        "img_t = plt.imshow(x_test[0], cmap='gray')"
      ],
      "execution_count": null,
      "outputs": [
        {
          "output_type": "display_data",
          "data": {
            "image/png": "[encoded data removed]",
            "text/plain": [
              "<Figure size 432x288 with 1 Axes>"
            ]
          },
          "metadata": {
            "tags": [],
            "needs_background": "light"
          }
        }
      ]
    },
    {
      "cell_type": "code",
      "metadata": {
        "colab": {
          "base_uri": "https://localhost:8080/",
          "height": 318
        },
        "id": "wuPFBcEU-53W",
        "outputId": "88d5b5e1-4177-46ff-eb4e-583ab629fe1c"
      },
      "source": [
        "img = encoder.predict(x_test[0].reshape(-1,28,28,1))\n",
        "plt.imshow(img.reshape(8,8), cmap='gray')"
      ],
      "execution_count": null,
      "outputs": [
        {
          "output_type": "stream",
          "text": [
            "WARNING:tensorflow:5 out of the last 20 calls to <function Model.make_predict_function.<locals>.predict_function at 0x7f637f700b00> triggered tf.function retracing. Tracing is expensive and the excessive number of tracings could be due to (1) creating @tf.function repeatedly in a loop, (2) passing tensors with different shapes, (3) passing Python objects instead of tensors. For (1), please define your @tf.function outside of the loop. For (2), @tf.function has experimental_relax_shapes=True option that relaxes argument shapes that can avoid unnecessary retracing. For (3), please refer to https://www.tensorflow.org/guide/function#controlling_retracing and https://www.tensorflow.org/api_docs/python/tf/function for  more details.\n"
          ],
          "name": "stdout"
        },
        {
          "output_type": "execute_result",
          "data": {
            "text/plain": [
              "<matplotlib.image.AxesImage at 0x7f63e49cb110>"
            ]
          },
          "metadata": {
            "tags": []
          },
          "execution_count": 53
        },
        {
          "output_type": "display_data",
          "data": {
            "image/png": "[encoded data removed]",
            "text/plain": [
              "<Figure size 432x288 with 1 Axes>"
            ]
          },
          "metadata": {
            "tags": [],
            "needs_background": "light"
          }
        }
      ]
    },
    {
      "cell_type": "code",
      "metadata": {
        "colab": {
          "base_uri": "https://localhost:8080/",
          "height": 318
        },
        "id": "wF1kOCMs_VyE",
        "outputId": "0d9e3916-8ea9-44c7-d63e-e9395de42de5"
      },
      "source": [
        "img_ = autoencoder.predict(x_test[0].reshape(-1,28,28,1))\n",
        "plt.imshow(img_.reshape(28,28), cmap='gray')"
      ],
      "execution_count": null,
      "outputs": [
        {
          "output_type": "stream",
          "text": [
            "WARNING:tensorflow:6 out of the last 21 calls to <function Model.make_predict_function.<locals>.predict_function at 0x7f637f61b5f0> triggered tf.function retracing. Tracing is expensive and the excessive number of tracings could be due to (1) creating @tf.function repeatedly in a loop, (2) passing tensors with different shapes, (3) passing Python objects instead of tensors. For (1), please define your @tf.function outside of the loop. For (2), @tf.function has experimental_relax_shapes=True option that relaxes argument shapes that can avoid unnecessary retracing. For (3), please refer to https://www.tensorflow.org/guide/function#controlling_retracing and https://www.tensorflow.org/api_docs/python/tf/function for  more details.\n"
          ],
          "name": "stdout"
        },
        {
          "output_type": "execute_result",
          "data": {
            "text/plain": [
              "<matplotlib.image.AxesImage at 0x7f63e48ffbd0>"
            ]
          },
          "metadata": {
            "tags": []
          },
          "execution_count": 54
        },
        {
          "output_type": "display_data",
          "data": {
            "image/png": "[encoded data removed]",
            "text/plain": [
              "<Figure size 432x288 with 1 Axes>"
            ]
          },
          "metadata": {
            "tags": [],
            "needs_background": "light"
          }
        }
      ]
    },
    {
      "cell_type": "code",
      "metadata": {
        "colab": {
          "base_uri": "https://localhost:8080/"
        },
        "id": "2K-w0F-4CMmj",
        "outputId": "e844d655-014b-41e1-fa90-963cc8775ade"
      },
      "source": [
        "x_test[0].shape, img_.reshape(28,28).shape"
      ],
      "execution_count": null,
      "outputs": [
        {
          "output_type": "execute_result",
          "data": {
            "text/plain": [
              "((28, 28), (28, 28))"
            ]
          },
          "metadata": {
            "tags": []
          },
          "execution_count": 68
        }
      ]
    },
    {
      "cell_type": "code",
      "metadata": {
        "colab": {
          "base_uri": "https://localhost:8080/"
        },
        "id": "dKSaR85VAN-4",
        "outputId": "433773b9-a819-42a3-bca6-dd7095fc4f07"
      },
      "source": [
        "score,_ = compare_ssim(x_test[0], img_.reshape(28,28), full=True)\n",
        "print(score)"
      ],
      "execution_count": null,
      "outputs": [
        {
          "output_type": "stream",
          "text": [
            "0.9571659661976338\n"
          ],
          "name": "stdout"
        },
        {
          "output_type": "stream",
          "text": [
            "/usr/local/lib/python3.7/dist-packages/ipykernel_launcher.py:2: UserWarning: DEPRECATED: skimage.measure.compare_ssim has been moved to skimage.metrics.structural_similarity. It will be removed from skimage.measure in version 0.18.\n",
            "  \n",
            "/usr/local/lib/python3.7/dist-packages/skimage/measure/_structural_similarity.py:17: UserWarning: Inputs have mismatched dtype.  Setting data_range based on im1.dtype.\n",
            "  **kwargs)\n"
          ],
          "name": "stderr"
        }
      ]
    },
    {
      "cell_type": "markdown",
      "metadata": {
        "id": "PgQfBfw6C9IP"
      },
      "source": [
        "### It's obvious that conv will perform better and extract much info. as score has difference in scores `89` and `95`"
      ]
    }
  ]
}